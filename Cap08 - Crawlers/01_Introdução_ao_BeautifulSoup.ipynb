{
 "cells": [
  {
   "cell_type": "markdown",
   "metadata": {},
   "source": [
    "___\n",
    "# Capítulo 8 - Coletando dados na internet com BeautifulSoup\n",
    "\n",
    "## Seção 1 - Introdução ao BeautifulSoup e a raspagem de dados\n",
    "___"
   ]
  },
  {
   "cell_type": "code",
   "execution_count": 2,
   "metadata": {},
   "outputs": [],
   "source": [
    "from bs4 import BeautifulSoup"
   ]
  },
  {
   "cell_type": "markdown",
   "metadata": {},
   "source": [
    "### O objeto BeautifulSoup"
   ]
  },
  {
   "cell_type": "code",
   "execution_count": 3,
   "metadata": {},
   "outputs": [],
   "source": [
    "doc_html = '''\n",
    "<html><head><title>Pizza de Dados</title></head>\n",
    "<body>\n",
    "<section id=\"about\">\n",
    "         <div class=\"user-details\">\n",
    "  <p class='title'> Sobre o Pizza de Dados </p>\n",
    "  <p> O Pizza de Dados é uma iniciativa de 3 apaixonados por ciência de dados que viviam discutindo assuntos, links e conselhos de carreira. A vontade de aprender mais e compartilhar conhecimento era comum a todos e a ausência de um canal em português para tratar desses temas, levou à ideia de formar o pizza de dados.</p>\n",
    "\n",
    "  <p> O nome é uma espécie de “homenagem” ao repositório datascience.pizza, que se tornou em pouco tempo uma referência de material de estudos de ciência de dados em português.</p>\n",
    "\n",
    "  <p> Por ser algo feito de forma simples e leve por pessoas que normalmente se enfiam em muitos projetos ao mesmo tempo, o Pizza de Dados tem 3 regras básicas:</p>\n",
    "\n",
    "<ol>\n",
    "    <li>Só vamos fazer isso enquanto estiver divertido para todos;</li>\n",
    "    <li>Não vamos fazer por pressão (de datas, de publicação, de frequência…);</li>\n",
    "    <li>Nem todos os pizzaiolos originais devem estar em um episódio.</li>\n",
    "</ol>\n",
    "\n",
    "  <p> Esperamos que você se divirta, nos dê feedback e aprenda um pouquinho! </p>\n",
    "</div>\n",
    "\n",
    "      </section>\n",
    "    <div class=\"header-links\">\n",
    "        <a class=\"link\" href=\"#about\" data-scroll=\"\">Sobre</a>\n",
    "        <a class=\"link\" href=\"#pizzaiolos\" data-scroll=\"\">Quem somos</a>\n",
    "        <a class=\"link\" target=\"_blank\" href=\"https://medium.com/pizzadedados\">Revista</a>\n",
    "        <a class=\"link\" target=\"_blank\" href=\"https://podcast.pizzadedados.com/\">Episódios</a>\n",
    "        <a class=\"link\" href=\"#vemcomagente\" data-scroll=\"\">Assine</a>\n",
    "        <a class=\"link\" href=\"#vemcomagente\" data-scroll=\"\">Apoie</a>\n",
    "      </div>\n",
    "'''"
   ]
  },
  {
   "cell_type": "code",
   "execution_count": 4,
   "metadata": {},
   "outputs": [
    {
     "name": "stdout",
     "output_type": "stream",
     "text": [
      "\n",
      "<html><head><title>Pizza de Dados</title></head>\n",
      "<body>\n",
      "<section id=\"about\">\n",
      "<div class=\"user-details\">\n",
      "<p class=\"title\"> Sobre o Pizza de Dados </p>\n",
      "<p> O Pizza de Dados é uma iniciativa de 3 apaixonados por ciência de dados que viviam discutindo assuntos, links e conselhos de carreira. A vontade de aprender mais e compartilhar conhecimento era comum a todos e a ausência de um canal em português para tratar desses temas, levou à ideia de formar o pizza de dados.</p>\n",
      "<p> O nome é uma espécie de “homenagem” ao repositório datascience.pizza, que se tornou em pouco tempo uma referência de material de estudos de ciência de dados em português.</p>\n",
      "<p> Por ser algo feito de forma simples e leve por pessoas que normalmente se enfiam em muitos projetos ao mesmo tempo, o Pizza de Dados tem 3 regras básicas:</p>\n",
      "<ol>\n",
      "<li>Só vamos fazer isso enquanto estiver divertido para todos;</li>\n",
      "<li>Não vamos fazer por pressão (de datas, de publicação, de frequência…);</li>\n",
      "<li>Nem todos os pizzaiolos originais devem estar em um episódio.</li>\n",
      "</ol>\n",
      "<p> Esperamos que você se divirta, nos dê feedback e aprenda um pouquinho! </p>\n",
      "</div>\n",
      "</section>\n",
      "<div class=\"header-links\">\n",
      "<a class=\"link\" data-scroll=\"\" href=\"#about\">Sobre</a>\n",
      "<a class=\"link\" data-scroll=\"\" href=\"#pizzaiolos\">Quem somos</a>\n",
      "<a class=\"link\" href=\"https://medium.com/pizzadedados\" target=\"_blank\">Revista</a>\n",
      "<a class=\"link\" href=\"https://podcast.pizzadedados.com/\" target=\"_blank\">Episódios</a>\n",
      "<a class=\"link\" data-scroll=\"\" href=\"#vemcomagente\">Assine</a>\n",
      "<a class=\"link\" data-scroll=\"\" href=\"#vemcomagente\">Apoie</a>\n",
      "</div>\n",
      "</body></html>\n"
     ]
    }
   ],
   "source": [
    "sopa = BeautifulSoup(doc_html, 'html.parser')\n",
    "print(sopa)"
   ]
  },
  {
   "cell_type": "code",
   "execution_count": 5,
   "metadata": {},
   "outputs": [
    {
     "name": "stdout",
     "output_type": "stream",
     "text": [
      "<html>\n",
      " <head>\n",
      "  <title>\n",
      "   Pizza de Dados\n",
      "  </title>\n",
      " </head>\n",
      " <body>\n",
      "  <section id=\"about\">\n",
      "   <div class=\"user-details\">\n",
      "    <p class=\"title\">\n",
      "     Sobre o Pizza de Dados\n",
      "    </p>\n",
      "    <p>\n",
      "     O Pizza de Dados é uma iniciativa de 3 apaixonados por ciência de dados que viviam discutindo assuntos, links e conselhos de carreira. A vontade de aprend\n"
     ]
    }
   ],
   "source": [
    "print(sopa.prettify()[0:350])"
   ]
  },
  {
   "cell_type": "markdown",
   "metadata": {},
   "source": [
    "### Objetos Tag\n"
   ]
  },
  {
   "cell_type": "markdown",
   "metadata": {},
   "source": [
    "#### Trabalhando com nomes"
   ]
  },
  {
   "cell_type": "code",
   "execution_count": 6,
   "metadata": {},
   "outputs": [
    {
     "data": {
      "text/plain": [
       "bs4.element.Tag"
      ]
     },
     "execution_count": 6,
     "metadata": {},
     "output_type": "execute_result"
    }
   ],
   "source": [
    "sopa = BeautifulSoup('<b body=\"description\">O primeiro e o mais querido podcast sobre ciência de dados no Brasil</b>',\n",
    "                     'html.parser')\n",
    "\n",
    "tag = sopa.b\n",
    "type(tag)"
   ]
  },
  {
   "cell_type": "code",
   "execution_count": 7,
   "metadata": {},
   "outputs": [
    {
     "name": "stdout",
     "output_type": "stream",
     "text": [
      "<b body=\"description\">O primeiro e o mais querido podcast sobre ciência de dados no Brasil</b>\n"
     ]
    }
   ],
   "source": [
    "print(tag)"
   ]
  },
  {
   "cell_type": "code",
   "execution_count": 8,
   "metadata": {},
   "outputs": [
    {
     "data": {
      "text/plain": [
       "'b'"
      ]
     },
     "execution_count": 8,
     "metadata": {},
     "output_type": "execute_result"
    }
   ],
   "source": [
    "tag.name"
   ]
  },
  {
   "cell_type": "code",
   "execution_count": 9,
   "metadata": {},
   "outputs": [
    {
     "data": {
      "text/plain": [
       "<podcast body=\"description\">O primeiro e o mais querido podcast sobre ciência de dados no Brasil</podcast>"
      ]
     },
     "execution_count": 9,
     "metadata": {},
     "output_type": "execute_result"
    }
   ],
   "source": [
    "tag.name = 'podcast'\n",
    "tag"
   ]
  },
  {
   "cell_type": "code",
   "execution_count": 10,
   "metadata": {},
   "outputs": [
    {
     "data": {
      "text/plain": [
       "'podcast'"
      ]
     },
     "execution_count": 10,
     "metadata": {},
     "output_type": "execute_result"
    }
   ],
   "source": [
    "tag.name"
   ]
  },
  {
   "cell_type": "markdown",
   "metadata": {},
   "source": [
    "#### Trabalhando com atributos"
   ]
  },
  {
   "cell_type": "code",
   "execution_count": 11,
   "metadata": {},
   "outputs": [
    {
     "data": {
      "text/plain": [
       "'description'"
      ]
     },
     "execution_count": 11,
     "metadata": {},
     "output_type": "execute_result"
    }
   ],
   "source": [
    "tag['body']"
   ]
  },
  {
   "cell_type": "code",
   "execution_count": 12,
   "metadata": {},
   "outputs": [
    {
     "data": {
      "text/plain": [
       "{'body': 'description'}"
      ]
     },
     "execution_count": 12,
     "metadata": {},
     "output_type": "execute_result"
    }
   ],
   "source": [
    "tag.attrs"
   ]
  },
  {
   "cell_type": "code",
   "execution_count": 13,
   "metadata": {},
   "outputs": [
    {
     "data": {
      "text/plain": [
       "{'body': 'description', 'id': 3}"
      ]
     },
     "execution_count": 13,
     "metadata": {},
     "output_type": "execute_result"
    }
   ],
   "source": [
    "tag['id'] = 3\n",
    "tag.attrs"
   ]
  },
  {
   "cell_type": "code",
   "execution_count": 14,
   "metadata": {},
   "outputs": [
    {
     "data": {
      "text/plain": [
       "<podcast body=\"description\" id=\"3\">O primeiro e o mais querido podcast sobre ciência de dados no Brasil</podcast>"
      ]
     },
     "execution_count": 14,
     "metadata": {},
     "output_type": "execute_result"
    }
   ],
   "source": [
    "tag"
   ]
  },
  {
   "cell_type": "code",
   "execution_count": 15,
   "metadata": {},
   "outputs": [
    {
     "data": {
      "text/plain": [
       "<podcast id=\"3\">O primeiro e o mais querido podcast sobre ciência de dados no Brasil</podcast>"
      ]
     },
     "execution_count": 15,
     "metadata": {},
     "output_type": "execute_result"
    }
   ],
   "source": [
    "del tag['body']\n",
    "tag"
   ]
  },
  {
   "cell_type": "code",
   "execution_count": 16,
   "metadata": {},
   "outputs": [
    {
     "data": {
      "text/plain": [
       "{'id': 3}"
      ]
     },
     "execution_count": 16,
     "metadata": {},
     "output_type": "execute_result"
    }
   ],
   "source": [
    "tag.attrs"
   ]
  },
  {
   "cell_type": "markdown",
   "metadata": {},
   "source": [
    "#### Usando tags"
   ]
  },
  {
   "cell_type": "code",
   "execution_count": 17,
   "metadata": {},
   "outputs": [
    {
     "data": {
      "text/plain": [
       "<head><title>Pizza de Dados</title></head>"
      ]
     },
     "execution_count": 17,
     "metadata": {},
     "output_type": "execute_result"
    }
   ],
   "source": [
    "sopa = BeautifulSoup(doc_html, 'html.parser')\n",
    "sopa.head"
   ]
  },
  {
   "cell_type": "code",
   "execution_count": 18,
   "metadata": {},
   "outputs": [
    {
     "data": {
      "text/plain": [
       "<title>Pizza de Dados</title>"
      ]
     },
     "execution_count": 18,
     "metadata": {},
     "output_type": "execute_result"
    }
   ],
   "source": [
    "sopa.title"
   ]
  },
  {
   "cell_type": "code",
   "execution_count": 19,
   "metadata": {},
   "outputs": [
    {
     "data": {
      "text/plain": [
       "<body>\n",
       "<section id=\"about\">\n",
       "<div class=\"user-details\">\n",
       "<p class=\"title\"> Sobre o Pizza de Dados </p>\n",
       "<p> O Pizza de Dados é uma iniciativa de 3 apaixonados por ciência de dados que viviam discutindo assuntos, links e conselhos de carreira. A vontade de aprender mais e compartilhar conhecimento era comum a todos e a ausência de um canal em português para tratar desses temas, levou à ideia de formar o pizza de dados.</p>\n",
       "<p> O nome é uma espécie de “homenagem” ao repositório datascience.pizza, que se tornou em pouco tempo uma referência de material de estudos de ciência de dados em português.</p>\n",
       "<p> Por ser algo feito de forma simples e leve por pessoas que normalmente se enfiam em muitos projetos ao mesmo tempo, o Pizza de Dados tem 3 regras básicas:</p>\n",
       "<ol>\n",
       "<li>Só vamos fazer isso enquanto estiver divertido para todos;</li>\n",
       "<li>Não vamos fazer por pressão (de datas, de publicação, de frequência…);</li>\n",
       "<li>Nem todos os pizzaiolos originais devem estar em um episódio.</li>\n",
       "</ol>\n",
       "<p> Esperamos que você se divirta, nos dê feedback e aprenda um pouquinho! </p>\n",
       "</div>\n",
       "</section>\n",
       "<div class=\"header-links\">\n",
       "<a class=\"link\" data-scroll=\"\" href=\"#about\">Sobre</a>\n",
       "<a class=\"link\" data-scroll=\"\" href=\"#pizzaiolos\">Quem somos</a>\n",
       "<a class=\"link\" href=\"https://medium.com/pizzadedados\" target=\"_blank\">Revista</a>\n",
       "<a class=\"link\" href=\"https://podcast.pizzadedados.com/\" target=\"_blank\">Episódios</a>\n",
       "<a class=\"link\" data-scroll=\"\" href=\"#vemcomagente\">Assine</a>\n",
       "<a class=\"link\" data-scroll=\"\" href=\"#vemcomagente\">Apoie</a>\n",
       "</div>\n",
       "</body>"
      ]
     },
     "execution_count": 19,
     "metadata": {},
     "output_type": "execute_result"
    }
   ],
   "source": [
    "sopa.body"
   ]
  },
  {
   "cell_type": "code",
   "execution_count": null,
   "metadata": {},
   "outputs": [],
   "source": []
  },
  {
   "cell_type": "code",
   "execution_count": null,
   "metadata": {},
   "outputs": [],
   "source": []
  }
 ],
 "metadata": {
  "anaconda-cloud": {},
  "kernelspec": {
   "display_name": "Python 3",
   "language": "python",
   "name": "python3"
  },
  "language_info": {
   "codemirror_mode": {
    "name": "ipython",
    "version": 3
   },
   "file_extension": ".py",
   "mimetype": "text/x-python",
   "name": "python",
   "nbconvert_exporter": "python",
   "pygments_lexer": "ipython3",
   "version": "3.7.1"
  }
 },
 "nbformat": 4,
 "nbformat_minor": 2
}
