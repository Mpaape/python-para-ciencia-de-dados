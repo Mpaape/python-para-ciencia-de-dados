{
 "cells": [
  {
   "cell_type": "markdown",
   "metadata": {},
   "source": [
    "___\n",
    "# Capítulo 8 -  Coletando dados na internet com BeautifulSoup\n",
    "## Seção 2 - Parseando dados\n",
    "___"
   ]
  },
  {
   "cell_type": "code",
   "execution_count": null,
   "metadata": {
    "collapsed": true
   },
   "outputs": [],
   "source": []
  },
  {
   "cell_type": "code",
   "execution_count": 1,
   "metadata": {},
   "outputs": [],
   "source": [
    "doc_html = '''\n",
    "<html><head><title>Pizza de Dados</title></head>\n",
    "<body>\n",
    "<section id=\"about\">\n",
    "         <div class=\"user-details\">\n",
    "  <p class='title'> Sobre o Pizza de Dados </p>\n",
    "  <p> O Pizza de Dados é uma iniciativa de 3 apaixonados por ciência de dados que viviam discutindo assuntos, links e conselhos de carreira. A vontade de aprender mais e compartilhar conhecimento era comum a todos e a ausência de um canal em português para tratar desses temas, levou à ideia de formar o pizza de dados.</p>\n",
    "\n",
    "  <p> O nome é uma espécie de “homenagem” ao repositório datascience.pizza, que se tornou em pouco tempo uma referência de material de estudos de ciência de dados em português.</p>\n",
    "\n",
    "  <p> Por ser algo feito de forma simples e leve por pessoas que normalmente se enfiam em muitos projetos ao mesmo tempo, o Pizza de Dados tem 3 regras básicas:</p>\n",
    "\n",
    "<ol>\n",
    "    <li>Só vamos fazer isso enquanto estiver divertido para todos;</li>\n",
    "    <li>Não vamos fazer por pressão (de datas, de publicação, de frequência…);</li>\n",
    "    <li>Nem todos os pizzaiolos originais devem estar em um episódio.</li>\n",
    "</ol>\n",
    "\n",
    "  <p> Esperamos que você se divirta, nos dê feedback e aprenda um pouquinho! </p>\n",
    "</div>\n",
    "\n",
    "      </section>\n",
    "    <div class=\"header-links\">\n",
    "        <a class=\"link\" href=\"#about\" id=\"link 1\">Sobre</a>\n",
    "        <a class=\"link\" href=\"#pizzaiolos\" id=\"link 2\">Quem somos</a>\n",
    "        <a class=\"link\" target=\"_blank\" href=\"https://medium.com/pizzadedados\" id=\"link 3\">Revista</a>\n",
    "        <a class=\"link\" target=\"_blank\" href=\"https://podcast.pizzadedados.com/\" id=\"link 4\">Episódios</a>\n",
    "        <a class=\"link\" href=\"#vemcomagente\" id=\"link 5\">Assine</a>\n",
    "        <a class=\"link\" href=\"#vemcomagente\" id=\"link 6\">Apoie</a>\n",
    "      </div>\n",
    "'''"
   ]
  },
  {
   "cell_type": "code",
   "execution_count": 2,
   "metadata": {},
   "outputs": [],
   "source": [
    "from bs4 import BeautifulSoup\n",
    "\n",
    "import re"
   ]
  },
  {
   "cell_type": "code",
   "execution_count": 3,
   "metadata": {},
   "outputs": [
    {
     "data": {
      "text/plain": [
       "bs4.BeautifulSoup"
      ]
     },
     "execution_count": 3,
     "metadata": {},
     "output_type": "execute_result"
    }
   ],
   "source": [
    "sopa = BeautifulSoup(doc_html, 'html.parser')\n",
    "type(sopa)"
   ]
  },
  {
   "cell_type": "markdown",
   "metadata": {},
   "source": [
    "### Pegando dados de uma árvore"
   ]
  },
  {
   "cell_type": "code",
   "execution_count": 4,
   "metadata": {},
   "outputs": [
    {
     "name": "stdout",
     "output_type": "stream",
     "text": [
      "\n",
      "Pizza de Dados\n",
      "\n",
      "\n",
      "\n",
      " Sobre o Pizza de Dados \n",
      " O Pizza de Dados é uma iniciativa de 3 apaixonados por ciência de dados que viviam discutindo assuntos, links e conselhos de carreira. A vontade de aprender mais e compartilhar conhecimento era comum a todos e a ausência de um canal em português para tratar desses temas, levou à ideia de formar o pizza de dados.\n",
      " O nome é uma espécie de “homenagem” ao repositório datascience.pizza, que se tornou em pouco tempo uma referência de material de estudos de ciência de dados em português.\n",
      " Por ser algo feito de forma simples e leve por pessoas que normalmente se enfiam em muitos projetos ao mesmo tempo, o Pizza de Dados tem 3 regras básicas:\n",
      "\n",
      "Só vamos fazer isso enquanto estiver divertido para todos;\n",
      "Não vamos fazer por pressão (de datas, de publicação, de frequência…);\n",
      "Nem todos os pizzaiolos originais devem estar em um episódio.\n",
      "\n",
      " Esperamos que você se divirta, nos dê feedback e aprenda um pouquinho! \n",
      "\n",
      "\n",
      "\n",
      "Sobre\n",
      "Quem somos\n",
      "Revista\n",
      "Episódios\n",
      "Assine\n",
      "Apoie\n",
      "\n",
      "\n"
     ]
    }
   ],
   "source": [
    "apenas_texto = sopa.get_text()\n",
    "print(apenas_texto)"
   ]
  },
  {
   "cell_type": "markdown",
   "metadata": {},
   "source": [
    "### Buscando e reavendo dados de uma árvore\n",
    "\n",
    "#### Reavendo tags por meio de filtros"
   ]
  },
  {
   "cell_type": "code",
   "execution_count": 5,
   "metadata": {},
   "outputs": [
    {
     "data": {
      "text/plain": [
       "[<a class=\"link\" href=\"https://podcast.pizzadedados.com/\" id=\"link 4\" target=\"_blank\">Episódios</a>]"
      ]
     },
     "execution_count": 5,
     "metadata": {},
     "output_type": "execute_result"
    }
   ],
   "source": [
    "sopa.find_all(id=\"link 4\")"
   ]
  },
  {
   "cell_type": "markdown",
   "metadata": {},
   "source": [
    "#### Reavendo tags por meio de filtros usando listas"
   ]
  },
  {
   "cell_type": "code",
   "execution_count": 6,
   "metadata": {},
   "outputs": [
    {
     "data": {
      "text/plain": [
       "[<p class=\"title\"> Sobre o Pizza de Dados </p>,\n",
       " <p> O Pizza de Dados é uma iniciativa de 3 apaixonados por ciência de dados que viviam discutindo assuntos, links e conselhos de carreira. A vontade de aprender mais e compartilhar conhecimento era comum a todos e a ausência de um canal em português para tratar desses temas, levou à ideia de formar o pizza de dados.</p>,\n",
       " <p> O nome é uma espécie de “homenagem” ao repositório datascience.pizza, que se tornou em pouco tempo uma referência de material de estudos de ciência de dados em português.</p>,\n",
       " <p> Por ser algo feito de forma simples e leve por pessoas que normalmente se enfiam em muitos projetos ao mesmo tempo, o Pizza de Dados tem 3 regras básicas:</p>,\n",
       " <ol>\n",
       " <li>Só vamos fazer isso enquanto estiver divertido para todos;</li>\n",
       " <li>Não vamos fazer por pressão (de datas, de publicação, de frequência…);</li>\n",
       " <li>Nem todos os pizzaiolos originais devem estar em um episódio.</li>\n",
       " </ol>,\n",
       " <p> Esperamos que você se divirta, nos dê feedback e aprenda um pouquinho! </p>]"
      ]
     },
     "execution_count": 6,
     "metadata": {},
     "output_type": "execute_result"
    }
   ],
   "source": [
    "sopa.find_all(['ol', 'p'])"
   ]
  },
  {
   "cell_type": "markdown",
   "metadata": {},
   "source": [
    "#### Reavendo tags usando regex\n"
   ]
  },
  {
   "cell_type": "code",
   "execution_count": 7,
   "metadata": {},
   "outputs": [
    {
     "name": "stdout",
     "output_type": "stream",
     "text": [
      "html\n",
      "title\n",
      "ol\n",
      "li\n",
      "li\n",
      "li\n"
     ]
    }
   ],
   "source": [
    "l = re.compile('l')\n",
    "for tag in sopa.find_all(l):\n",
    "    print(tag.name)"
   ]
  },
  {
   "cell_type": "markdown",
   "metadata": {},
   "source": [
    "#### Reavendo tags usando valores boleanos"
   ]
  },
  {
   "cell_type": "code",
   "execution_count": 8,
   "metadata": {},
   "outputs": [
    {
     "name": "stdout",
     "output_type": "stream",
     "text": [
      "html\n",
      "head\n",
      "title\n",
      "body\n",
      "section\n",
      "div\n",
      "p\n",
      "p\n",
      "p\n",
      "p\n",
      "ol\n",
      "li\n",
      "li\n",
      "li\n",
      "p\n",
      "div\n",
      "a\n",
      "a\n",
      "a\n",
      "a\n",
      "a\n",
      "a\n"
     ]
    }
   ],
   "source": [
    "for tag in sopa.find_all(True):\n",
    "    print(tag.name)"
   ]
  },
  {
   "cell_type": "markdown",
   "metadata": {},
   "source": [
    "#### Reavendo tags usando strings"
   ]
  },
  {
   "cell_type": "code",
   "execution_count": 9,
   "metadata": {},
   "outputs": [
    {
     "name": "stdout",
     "output_type": "stream",
     "text": [
      "#about\n",
      "#pizzaiolos\n",
      "https://medium.com/pizzadedados\n",
      "https://podcast.pizzadedados.com/\n",
      "#vemcomagente\n",
      "#vemcomagente\n"
     ]
    }
   ],
   "source": [
    "for link in sopa.find_all('a'):\n",
    "    print(link.get('href'))"
   ]
  },
  {
   "cell_type": "markdown",
   "metadata": {},
   "source": [
    "#### Reavendo tags usando regex"
   ]
  },
  {
   "cell_type": "code",
   "execution_count": 10,
   "metadata": {},
   "outputs": [
    {
     "data": {
      "text/plain": [
       "[' O Pizza de Dados é uma iniciativa de 3 apaixonados por ciência de dados que viviam discutindo assuntos, links e conselhos de carreira. A vontade de aprender mais e compartilhar conhecimento era comum a todos e a ausência de um canal em português para tratar desses temas, levou à ideia de formar o pizza de dados.',\n",
       " ' O nome é uma espécie de “homenagem” ao repositório datascience.pizza, que se tornou em pouco tempo uma referência de material de estudos de ciência de dados em português.']"
      ]
     },
     "execution_count": 10,
     "metadata": {},
     "output_type": "execute_result"
    }
   ],
   "source": [
    "sopa.find_all(string=re.compile(\"ciência\"))"
   ]
  },
  {
   "cell_type": "code",
   "execution_count": null,
   "metadata": {},
   "outputs": [],
   "source": []
  }
 ],
 "metadata": {
  "kernelspec": {
   "display_name": "Python 3",
   "language": "python",
   "name": "python3"
  },
  "language_info": {
   "codemirror_mode": {
    "name": "ipython",
    "version": 3
   },
   "file_extension": ".py",
   "mimetype": "text/x-python",
   "name": "python",
   "nbconvert_exporter": "python",
   "pygments_lexer": "ipython3",
   "version": "3.7.1"
  }
 },
 "nbformat": 4,
 "nbformat_minor": 2
}
