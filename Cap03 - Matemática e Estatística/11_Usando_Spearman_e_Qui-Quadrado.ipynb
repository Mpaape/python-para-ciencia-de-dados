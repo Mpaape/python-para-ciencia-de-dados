{
 "cells": [
  {
   "cell_type": "markdown",
   "metadata": {},
   "source": [
    "___\n",
    "# Capítulo 3 - Matemática e Estatística Básicas\n",
    "## Seção 11 - Usando Spearman e Qui-Quadrado\n",
    "___"
   ]
  },
  {
   "cell_type": "code",
   "execution_count": 1,
   "metadata": {},
   "outputs": [],
   "source": [
    "import pandas as pd\n",
    "\n",
    "import matplotlib.pyplot as plt\n",
    "from matplotlib import rcParams\n",
    "\n",
    "import seaborn as sns\n",
    "\n",
    "%matplotlib inline\n",
    "rcParams['figure.figsize'] = 6, 3\n",
    "sns.set_style('whitegrid')\n",
    "\n",
    "caminho = '../dados/mtcars.csv'\n",
    "carros = pd.read_csv(caminho)\n",
    "carros.columns = ['nomes','mpg','cyl','disp', 'hp', 'drat', 'wt', 'qsec', 'vs', 'am', 'qtd_marchas', 'carb']"
   ]
  },
  {
   "cell_type": "code",
   "execution_count": 2,
   "metadata": {},
   "outputs": [],
   "source": [
    "from scipy.stats import spearmanr"
   ]
  },
  {
   "cell_type": "markdown",
   "metadata": {},
   "source": [
    "### Correlação de Spearman"
   ]
  },
  {
   "cell_type": "markdown",
   "metadata": {},
   "source": [
    "Lembre-se de escolher variáveis que seguem os pressupostos:\n",
    "\n",
    "- Não apresentar distribuição normal\n",
    "- Variáveis ordinais\n",
    "- Variáveis não linearmente relacionadas"
   ]
  },
  {
   "cell_type": "code",
   "execution_count": 3,
   "metadata": {},
   "outputs": [
    {
     "data": {
      "text/plain": [
       "<seaborn.axisgrid.PairGrid at 0x23563e7d780>"
      ]
     },
     "execution_count": 3,
     "metadata": {},
     "output_type": "execute_result"
    },
    {
     "data": {
      "image/png": "[encoded data removed]",
      "text/plain": [
       "<Figure size 720x720 with 20 Axes>"
      ]
     },
     "metadata": {},
     "output_type": "display_data"
    }
   ],
   "source": [
    "X = carros[['cyl', 'vs', 'am', 'qtd_marchas']]\n",
    "sns.pairplot(X)"
   ]
  },
  {
   "cell_type": "code",
   "execution_count": 4,
   "metadata": {},
   "outputs": [
    {
     "name": "stdout",
     "output_type": "stream",
     "text": [
      "Spearman Rank Correlation Coefficient -0.814\n"
     ]
    }
   ],
   "source": [
    "cyl = carros['cyl']\n",
    "vs = carros['vs']\n",
    "am = carros['am']\n",
    "marchas = carros['qtd_marchas']\n",
    "\n",
    "coeficiente_spearmanr, p_valor = spearmanr(cyl, vs)\n",
    "print('Spearman Rank Correlation Coefficient {:0.3}'.format(coeficiente_spearmanr))"
   ]
  },
  {
   "cell_type": "markdown",
   "metadata": {},
   "source": [
    "podemos dizer que as variveis cyl (quantidade de cilindros) e vs (que a formato do motor) forte correlacao as outras duas tem uma correlacao apenas moderada"
   ]
  },
  {
   "cell_type": "code",
   "execution_count": 5,
   "metadata": {},
   "outputs": [
    {
     "name": "stdout",
     "output_type": "stream",
     "text": [
      "Spearman Rank Correlation Coefficient -0.522\n"
     ]
    }
   ],
   "source": [
    "coeficiente_spearmanr, p_valor = spearmanr(cyl, am)\n",
    "print('Spearman Rank Correlation Coefficient {:0.3}'.format(coeficiente_spearmanr))"
   ]
  },
  {
   "cell_type": "code",
   "execution_count": 5,
   "metadata": {},
   "outputs": [
    {
     "name": "stdout",
     "output_type": "stream",
     "text": [
      "Spearman Rank Correlation Coefficient -0.564\n"
     ]
    }
   ],
   "source": [
    "coeficiente_spearmanr, p_valor = spearmanr(cyl, marchas)\n",
    "print('Spearman Rank Correlation Coefficient {:0.3}'.format(coeficiente_spearmanr))"
   ]
  },
  {
   "cell_type": "markdown",
   "metadata": {},
   "source": [
    "### Chi-square test for independence"
   ]
  },
  {
   "cell_type": "markdown",
   "metadata": {},
   "source": [
    "para calcular o chi 2 primeiro precisamos montar um crosstab (que ja conhecemos de aulas anteriories)"
   ]
  },
  {
   "cell_type": "code",
   "execution_count": 11,
   "metadata": {},
   "outputs": [
    {
     "name": "stdout",
     "output_type": "stream",
     "text": [
      "Chi-square Statistic 8.74 p_value 0.0126\n"
     ]
    }
   ],
   "source": [
    "table = pd.crosstab(cyl, am)\n",
    "\n",
    "from scipy.stats import chi2_contingency\n",
    "chi2, p, dof, expected = chi2_contingency(table.values)\n",
    "print('Chi-square Statistic {:0.3} p_value {:0.3}'.format(chi2, p))"
   ]
  },
  {
   "cell_type": "code",
   "execution_count": 12,
   "metadata": {},
   "outputs": [
    {
     "data": {
      "text/html": [
       "<div>\n",
       "<style scoped>\n",
       "    .dataframe tbody tr th:only-of-type {\n",
       "        vertical-align: middle;\n",
       "    }\n",
       "\n",
       "    .dataframe tbody tr th {\n",
       "        vertical-align: top;\n",
       "    }\n",
       "\n",
       "    .dataframe thead th {\n",
       "        text-align: right;\n",
       "    }\n",
       "</style>\n",
       "<table border=\"1\" class=\"dataframe\">\n",
       "  <thead>\n",
       "    <tr style=\"text-align: right;\">\n",
       "      <th>am</th>\n",
       "      <th>0</th>\n",
       "      <th>1</th>\n",
       "    </tr>\n",
       "    <tr>\n",
       "      <th>cyl</th>\n",
       "      <th></th>\n",
       "      <th></th>\n",
       "    </tr>\n",
       "  </thead>\n",
       "  <tbody>\n",
       "    <tr>\n",
       "      <th>4</th>\n",
       "      <td>3</td>\n",
       "      <td>8</td>\n",
       "    </tr>\n",
       "    <tr>\n",
       "      <th>6</th>\n",
       "      <td>4</td>\n",
       "      <td>3</td>\n",
       "    </tr>\n",
       "    <tr>\n",
       "      <th>8</th>\n",
       "      <td>12</td>\n",
       "      <td>2</td>\n",
       "    </tr>\n",
       "  </tbody>\n",
       "</table>\n",
       "</div>"
      ],
      "text/plain": [
       "am    0  1\n",
       "cyl       \n",
       "4     3  8\n",
       "6     4  3\n",
       "8    12  2"
      ]
     },
     "execution_count": 12,
     "metadata": {},
     "output_type": "execute_result"
    }
   ],
   "source": [
    "table # cria o que os estatísticos chamam de tabela de contingencia."
   ]
  },
  {
   "cell_type": "code",
   "execution_count": 7,
   "metadata": {},
   "outputs": [
    {
     "name": "stdout",
     "output_type": "stream",
     "text": [
      "Chi-square Statistic 21.3 p_value 2e-05\n"
     ]
    }
   ],
   "source": [
    "table = pd.crosstab(cyl, vs)\n",
    "chi2, p, dof, expected = chi2_contingency(table.values)\n",
    "print('Chi-square Statistic {:0.3} p_value {:0.1}'.format(chi2, p))"
   ]
  },
  {
   "cell_type": "code",
   "execution_count": 8,
   "metadata": {},
   "outputs": [
    {
     "name": "stdout",
     "output_type": "stream",
     "text": [
      "Chi-square Statistic 18.0 p_value 0.001\n"
     ]
    }
   ],
   "source": [
    "table = pd.crosstab(cyl, marchas)\n",
    "chi2, p, dof, expected = chi2_contingency(table.values)\n",
    "print('Chi-square Statistic {:0.3} p_value {:0.1}'.format(chi2, p))"
   ]
  }
 ],
 "metadata": {
  "kernelspec": {
   "display_name": "Python 3",
   "language": "python",
   "name": "python3"
  },
  "language_info": {
   "codemirror_mode": {
    "name": "ipython",
    "version": 3
   },
   "file_extension": ".py",
   "mimetype": "text/x-python",
   "name": "python",
   "nbconvert_exporter": "python",
   "pygments_lexer": "ipython3",
   "version": "3.7.1"
  }
 },
 "nbformat": 4,
 "nbformat_minor": 2
}
